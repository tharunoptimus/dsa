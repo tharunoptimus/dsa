{
  "nbformat": 4,
  "nbformat_minor": 0,
  "metadata": {
    "colab": {
      "name": "First Experiment.ipynb",
      "provenance": [],
      "collapsed_sections": []
    },
    "kernelspec": {
      "name": "python3",
      "display_name": "Python 3"
    },
    "language_info": {
      "name": "python"
    },
    "accelerator": "TPU"
  },
  "cells": [
    {
      "cell_type": "code",
      "execution_count": null,
      "metadata": {
        "id": "SrrxxwQKifth"
      },
      "outputs": [],
      "source": [
        "\"https://stackblitz.com/edit/fpjs-3-cdn?file=index.html&devtoolsheight=100\"\n",
        "\"su itadmin\"\n",
        "\"mitadminit\""
      ]
    },
    {
      "cell_type": "code",
      "source": [
        "\"\"\"\n",
        "  bites.zip is in this directory\n",
        "  this zip 📂 file contains \n",
        "  - the dataset 📦 and \n",
        "  - the files 📰 used in this experiment\n",
        "  Unzipping it... 😞\n",
        "\"\"\"\n",
        "!unzip bites.zip"
      ],
      "metadata": {
        "id": "Bf18-mdEAt4C"
      },
      "execution_count": null,
      "outputs": []
    },
    {
      "cell_type": "markdown",
      "source": [
        "## Read data from text file\n",
        "\n",
        "We create a new text file named sample.txt in the same directory and try to read the file with inbuilt python modules"
      ],
      "metadata": {
        "id": "yA3FlyabByLY"
      }
    },
    {
      "cell_type": "code",
      "source": [
        "with open('sample.txt') as f:\n",
        "    lines = f.readlines()\n",
        "\n",
        "for line in lines:\n",
        "    print(line)"
      ],
      "metadata": {
        "id": "gqfGEuy7CGD4"
      },
      "execution_count": null,
      "outputs": []
    },
    {
      "cell_type": "markdown",
      "source": [
        "## Reading an Excel file\n",
        "An Excel file (`*csv` file is used here) can be read and displayed in python in two ways:\n",
        "1. `csv` module\n",
        "1. `pandas` module\n"
      ],
      "metadata": {
        "id": "aGeyAqQ2BPCq"
      }
    },
    {
      "cell_type": "markdown",
      "source": [
        "### Reading with the `csv` module"
      ],
      "metadata": {
        "id": "wZTgmbcVBk5Q"
      }
    },
    {
      "cell_type": "code",
      "source": [
        "# With csv module\n",
        "\n",
        "import csv\n",
        "with open('bites.csv') as csvfile:\n",
        "    csvReader = csv.reader(csvfile, delimiter=',')\n",
        "    for row in csvReader:\n",
        "        print(row)"
      ],
      "metadata": {
        "id": "gI4STi7cvl9m"
      },
      "execution_count": null,
      "outputs": []
    },
    {
      "cell_type": "markdown",
      "source": [
        "### Reading with the `pandas` module"
      ],
      "metadata": {
        "id": "4NPU-C72BqQY"
      }
    },
    {
      "cell_type": "code",
      "source": [
        "# With pandas\n",
        "\n",
        "import pandas as pd\n",
        "df = pd.read_csv('bites.csv')\n",
        "print(df)"
      ],
      "metadata": {
        "id": "wZQiR1TqzECe"
      },
      "execution_count": null,
      "outputs": []
    },
    {
      "cell_type": "markdown",
      "source": [
        "## Reading a file from the web\n",
        "A file (`*txt` file) can be read with python using `urllib.request` from module `urlopen`\n",
        "\n"
      ],
      "metadata": {
        "id": "sipnyk8RDa9n"
      }
    },
    {
      "cell_type": "code",
      "source": [
        "from urllib.request import urlopen\n",
        "\n",
        "r = urlopen(\"http://download.cathdb.info/cath/releases/all-releases/v4_2_0/cath-classification-data/cath-domain-list-v4_2_0.txt\")\n",
        "                                 \n",
        "for line in r:\n",
        "    print(line)"
      ],
      "metadata": {
        "id": "JUvYQx4dDtsO"
      },
      "execution_count": null,
      "outputs": []
    }
  ]
}